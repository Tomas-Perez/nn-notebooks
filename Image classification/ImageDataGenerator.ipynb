{
  "nbformat": 4,
  "nbformat_minor": 0,
  "metadata": {
    "kernelspec": {
      "display_name": "Python 3",
      "language": "python",
      "name": "python3"
    },
    "language_info": {
      "codemirror_mode": {
        "name": "ipython",
        "version": 3
      },
      "file_extension": ".py",
      "mimetype": "text/x-python",
      "name": "python",
      "nbconvert_exporter": "python",
      "pygments_lexer": "ipython3",
      "version": "3.7.9"
    },
    "colab": {
      "name": "ImageDataGenerator.ipynb",
      "provenance": [],
      "collapsed_sections": []
    }
  },
  "cells": [
    {
      "cell_type": "code",
      "metadata": {
        "id": "yuSvDzToUNps"
      },
      "source": [
        "from IPython.core.interactiveshell import InteractiveShell\n",
        "InteractiveShell.ast_node_interactivity = \"all\""
      ],
      "execution_count": null,
      "outputs": []
    },
    {
      "cell_type": "code",
      "metadata": {
        "id": "rrpjqYBeUNpy"
      },
      "source": [
        "import os\n",
        "import tensorflow as tf\n",
        "import numpy as np\n",
        "\n",
        "# Set the seed for random operations. \n",
        "# This let our experiments to be reproducible. \n",
        "SEED = 1234\n",
        "tf.random.set_seed(SEED)  \n",
        "\n",
        "# Get current working directory\n",
        "cwd = os.getcwd()"
      ],
      "execution_count": null,
      "outputs": []
    },
    {
      "cell_type": "code",
      "metadata": {
        "id": "_rMz3ODmUxhT"
      },
      "source": [
        "# Run this cell only if you are using Colab with Drive\n",
        "from google.colab import drive\n",
        "drive.mount('/content/drive')"
      ],
      "execution_count": null,
      "outputs": []
    },
    {
      "cell_type": "code",
      "metadata": {
        "id": "PHukKodbUzpX"
      },
      "source": [
        "# Run this cell only if you are using Colab with Drive\n",
        "!unzip '/content/drive/My Drive/UCMerced_LandUse.zip'"
      ],
      "execution_count": null,
      "outputs": []
    },
    {
      "cell_type": "markdown",
      "metadata": {
        "id": "ePB-HC1MUNp2"
      },
      "source": [
        "# Example: Multi-class Land Use classification\n",
        "## Uc Merced Land Use Dataset"
      ]
    },
    {
      "cell_type": "markdown",
      "metadata": {
        "id": "jo-aSf3-UNp3"
      },
      "source": [
        "### Directory structure\n",
        "\n",
        "    - UCMerced_LandUse/\n",
        "        - training/\n",
        "            - agricultural/\n",
        "                - img1, img2, …, imgN\n",
        "            - …\n",
        "            - parkinglot/ \n",
        "                - img1, img2, ... , imgN\n",
        "        - validation/\n",
        "            - agricultural/\n",
        "                - img1, img2, …, imgN\n",
        "            - …\n",
        "            - parkinglot/ \n",
        "                - img1, img2, ... , imgN\n",
        "        - test/\n",
        "            - agricultural/\n",
        "                - img1, img2, …, imgN\n",
        "            - …\n",
        "            - parkinglot/ \n",
        "                - img1, img2, ... , imgN"
      ]
    },
    {
      "cell_type": "code",
      "metadata": {
        "id": "jS9ubcwmUNp4"
      },
      "source": [
        "# ImageDataGenerator\n",
        "# ------------------\n",
        "\n",
        "from tensorflow.keras.preprocessing.image import ImageDataGenerator\n",
        "\n",
        "apply_data_augmentation = True\n",
        "\n",
        "# Create training ImageDataGenerator object\n",
        "if apply_data_augmentation:\n",
        "    train_data_gen = ImageDataGenerator(rotation_range=10,\n",
        "                                        width_shift_range=10,\n",
        "                                        height_shift_range=10,\n",
        "                                        zoom_range=0.3,\n",
        "                                        horizontal_flip=True,\n",
        "                                        vertical_flip=True,\n",
        "                                        fill_mode='constant',\n",
        "                                        cval=0,\n",
        "                                        rescale=1./255)\n",
        "else:\n",
        "    train_data_gen = ImageDataGenerator(rescale=1./255)\n",
        "\n",
        "# Create validation and test ImageDataGenerator objects\n",
        "valid_data_gen = ImageDataGenerator(rescale=1./255)\n",
        "test_data_gen = ImageDataGenerator(rescale=1./255)"
      ],
      "execution_count": null,
      "outputs": []
    },
    {
      "cell_type": "code",
      "metadata": {
        "id": "MShKQ0YhUNp8"
      },
      "source": [
        "# Create generators to read images from dataset directory\n",
        "# -------------------------------------------------------\n",
        "dataset_dir = os.path.join(cwd, 'UCMerced_LandUse')\n",
        "\n",
        "# img\n",
        "\n",
        "# Batch size\n",
        "bs = 8\n",
        "\n",
        "# img shape\n",
        "img_h = 256\n",
        "img_w = 256\n",
        "\n",
        "num_classes=21\n",
        "\n",
        "# Training\n",
        "training_dir = os.path.join(dataset_dir, 'training')\n",
        "train_gen = train_data_gen.flow_from_directory(training_dir,\n",
        "                                               batch_size=bs, \n",
        "                                               class_mode='categorical',\n",
        "                                               shuffle=True,\n",
        "                                               seed=SEED)  # targets are directly converted into one-hot vectors\n",
        "\n",
        "# Validation\n",
        "validation_dir = os.path.join(dataset_dir, 'validation')\n",
        "valid_gen = valid_data_gen.flow_from_directory(validation_dir,\n",
        "                                               batch_size=bs, \n",
        "                                               class_mode='categorical',\n",
        "                                               shuffle=False,\n",
        "                                               seed=SEED)\n",
        "\n",
        "# Test\n",
        "test_dir = os.path.join(dataset_dir, 'test')\n",
        "test_gen = test_data_gen.flow_from_directory(test_dir,\n",
        "                                             batch_size=bs, \n",
        "                                             class_mode='categorical',\n",
        "                                             shuffle=False,\n",
        "                                             seed=SEED)"
      ],
      "execution_count": null,
      "outputs": []
    },
    {
      "cell_type": "code",
      "metadata": {
        "id": "pOOYQqf4UNqB"
      },
      "source": [
        "# Create Dataset objects\n",
        "# ----------------------\n",
        "\n",
        "# Training\n",
        "train_dataset = tf.data.Dataset.from_generator(lambda: train_gen,\n",
        "                                               output_types=(tf.float32, tf.float32),\n",
        "                                               output_shapes=([None, img_h, img_w, 3], [None, num_classes]))\n",
        "\n",
        "# Shuffle (Already done in generator..)\n",
        "# train_dataset = train_dataset.shuffle(buffer_size=len(train_gen))\n",
        "\n",
        "# Normalize images (Already done in generator..)\n",
        "# def normalize_img(x_, y_):\n",
        "#     return tf.cast(x_, tf.float32) / 255., y_\n",
        "\n",
        "# train_dataset = train_dataset.map(normalize_img)\n",
        "\n",
        "# 1-hot encoding <- for categorical cross entropy (Already done in generator..)\n",
        "# def to_categorical(x_, y_):\n",
        "#     return x_, tf.one_hot(y_, depth=10)\n",
        "\n",
        "# train_dataset = train_dataset.map(to_categorical)\n",
        "\n",
        "# Divide in batches (Already done in generator..)\n",
        "# train_dataset = train_dataset.batch(bs)\n",
        "\n",
        "# Repeat\n",
        "# Without calling the repeat function the dataset \n",
        "# will be empty after consuming all the images\n",
        "train_dataset = train_dataset.repeat()\n",
        "\n",
        "# Validation\n",
        "# ----------\n",
        "valid_dataset = tf.data.Dataset.from_generator(lambda: valid_gen, \n",
        "                                               output_types=(tf.float32, tf.float32),\n",
        "                                               output_shapes=([None, img_h, img_w, 3], [None, num_classes]))\n",
        "\n",
        "# Repeat\n",
        "valid_dataset = valid_dataset.repeat()\n",
        "\n",
        "# Test\n",
        "# ----\n",
        "test_dataset = tf.data.Dataset.from_generator(lambda: test_gen,\n",
        "                                              output_types=(tf.float32, tf.float32),\n",
        "                                              output_shapes=([None, img_h, img_w, 3], [None, num_classes]))\n",
        "\n",
        "# Repeat\n",
        "test_dataset = valid_dataset.repeat()"
      ],
      "execution_count": null,
      "outputs": []
    },
    {
      "cell_type": "code",
      "metadata": {
        "scrolled": false,
        "id": "m5T0g9h9UNqF"
      },
      "source": [
        "# Let's test data augmentation\n",
        "# ----------------------------\n",
        "import time\n",
        "import matplotlib.pyplot as plt\n",
        "\n",
        "%matplotlib inline\n",
        "    \n",
        "iterator = iter(train_dataset)"
      ],
      "execution_count": null,
      "outputs": []
    },
    {
      "cell_type": "code",
      "metadata": {
        "id": "zzdUn_p8XY2C"
      },
      "source": [
        "augmented_img, target = next(iterator)\n",
        "augmented_img = np.array(augmented_img[0])   # First element\n",
        "augmented_img = augmented_img * 255  # denormalize\n",
        "   \n",
        "plt.imshow(np.uint8(augmented_img))\n",
        "# fig.canvas.draw()\n",
        "plt.plot()"
      ],
      "execution_count": null,
      "outputs": []
    }
  ]
}